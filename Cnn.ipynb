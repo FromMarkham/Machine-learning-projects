{
 "cells": [
  {
   "cell_type": "code",
   "execution_count": 1,
   "id": "17f10a65-872f-4df5-aa03-80bd99c801b5",
   "metadata": {},
   "outputs": [
    {
     "name": "stdout",
     "output_type": "stream",
     "text": [
      "Downloading from https://www.kaggle.com/api/v1/datasets/download/govindaramsriram/handwritten-math-expressions-dataset?dataset_version_number=1...\n"
     ]
    },
    {
     "name": "stderr",
     "output_type": "stream",
     "text": [
      "100%|██████████████████████████████████████| 2.18M/2.18M [00:00<00:00, 5.77MB/s]\n"
     ]
    },
    {
     "name": "stdout",
     "output_type": "stream",
     "text": [
      "Extracting files...\n",
      "Path to dataset files: /Users/bobwang/.cache/kagglehub/datasets/govindaramsriram/handwritten-math-expressions-dataset/versions/1\n"
     ]
    }
   ],
   "source": [
    "import torch\n",
    "import torch.nn as nn\n",
    "import torch.optim as optim\n",
    "import torch.utils.data as data\n",
    "import math\n",
    "import copy\n",
    "\n",
    "import numpy as np\n",
    "import tensorflow as tf \n",
    "\n",
    "import kagglehub\n",
    "\n",
    "# Download latest version\n",
    "path = kagglehub.dataset_download(\"govindaramsriram/handwritten-math-expressions-dataset\")\n",
    "\n",
    "#https://www.digitalocean.com/community/tutorials/writing-cnns-from-scratch-in-pytorch\n",
    "print(\"Path to dataset files:\", path)\n",
    "\n",
    "class my_cnn(nn.Module):\n",
    "    def __init__(self)\n",
    "    self.convnet_layer1=\n",
    "    self.convnet_layer2=\n",
    "    self.convnet_layer3=\n",
    "    self.convnet_layer4=\n",
    "\n",
    "    \n",
    "\n",
    "    def forward(self,x)\n"
   ]
  },
  {
   "cell_type": "code",
   "execution_count": null,
   "id": "eaf45736-6f04-41de-a807-50c18e9b255a",
   "metadata": {},
   "outputs": [],
   "source": []
  }
 ],
 "metadata": {
  "kernelspec": {
   "display_name": "Python 3 (ipykernel)",
   "language": "python",
   "name": "python3"
  },
  "language_info": {
   "codemirror_mode": {
    "name": "ipython",
    "version": 3
   },
   "file_extension": ".py",
   "mimetype": "text/x-python",
   "name": "python",
   "nbconvert_exporter": "python",
   "pygments_lexer": "ipython3",
   "version": "3.11.7"
  }
 },
 "nbformat": 4,
 "nbformat_minor": 5
}
